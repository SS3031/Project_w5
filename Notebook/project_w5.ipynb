{
 "cells": [
  {
   "cell_type": "code",
   "execution_count": 1,
   "id": "a44b0069-ccec-4aed-84f4-57157d2ff585",
   "metadata": {},
   "outputs": [],
   "source": [
    "import numpy as np\n",
    "import pandas as pd\n",
    "import matplotlib.pyplot as plt\n",
    "import seaborn as sns\n",
    "import scipy"
   ]
  },
  {
   "cell_type": "code",
   "execution_count": 2,
   "id": "0ec767e7-a093-4989-8df3-b895588e4374",
   "metadata": {},
   "outputs": [],
   "source": [
    "#importing the 4 datasets into notebook\n",
    "\n",
    "df_final_demo = pd.read_csv('C:/Users/sophi/Ironhack/Ironhack/Ironhack_prework_Jupyter/Week5/Project_w5/Data/data_w5/df_final_demo.txt')\n",
    "\n",
    "df_final_experiment_clients = pd.read_csv('C:/Users/sophi/Ironhack/Ironhack/Ironhack_prework_Jupyter/Week5/Project_w5/Data/data_w5/df_final_experiment_clients.txt')\n",
    "\n",
    "df_final_web_data_pt1 = pd.read_csv('C:/Users/sophi/Ironhack/Ironhack/Ironhack_prework_Jupyter/Week5/Project_w5/Data/data_w5/df_final_web_data_pt_1.txt')\n",
    "\n",
    "df_final_web_data_pt2 = pd.read_csv('C:/Users/sophi/Ironhack/Ironhack/Ironhack_prework_Jupyter/Week5/Project_w5/Data/data_w5/df_final_web_data_pt_2.txt')"
   ]
  },
  {
   "cell_type": "code",
   "execution_count": 3,
   "id": "e2fabf23-8fe6-4484-b851-366d94b102b1",
   "metadata": {},
   "outputs": [
    {
     "data": {
      "text/html": [
       "<div>\n",
       "<style scoped>\n",
       "    .dataframe tbody tr th:only-of-type {\n",
       "        vertical-align: middle;\n",
       "    }\n",
       "\n",
       "    .dataframe tbody tr th {\n",
       "        vertical-align: top;\n",
       "    }\n",
       "\n",
       "    .dataframe thead th {\n",
       "        text-align: right;\n",
       "    }\n",
       "</style>\n",
       "<table border=\"1\" class=\"dataframe\">\n",
       "  <thead>\n",
       "    <tr style=\"text-align: right;\">\n",
       "      <th></th>\n",
       "      <th>client_id</th>\n",
       "      <th>clnt_tenure_yr</th>\n",
       "      <th>clnt_tenure_mnth</th>\n",
       "      <th>clnt_age</th>\n",
       "      <th>gendr</th>\n",
       "      <th>num_accts</th>\n",
       "      <th>bal</th>\n",
       "      <th>calls_6_mnth</th>\n",
       "      <th>logons_6_mnth</th>\n",
       "    </tr>\n",
       "  </thead>\n",
       "  <tbody>\n",
       "    <tr>\n",
       "      <th>0</th>\n",
       "      <td>836976</td>\n",
       "      <td>6.0</td>\n",
       "      <td>73.0</td>\n",
       "      <td>60.5</td>\n",
       "      <td>U</td>\n",
       "      <td>2.0</td>\n",
       "      <td>45105.30</td>\n",
       "      <td>6.0</td>\n",
       "      <td>9.0</td>\n",
       "    </tr>\n",
       "    <tr>\n",
       "      <th>1</th>\n",
       "      <td>2304905</td>\n",
       "      <td>7.0</td>\n",
       "      <td>94.0</td>\n",
       "      <td>58.0</td>\n",
       "      <td>U</td>\n",
       "      <td>2.0</td>\n",
       "      <td>110860.30</td>\n",
       "      <td>6.0</td>\n",
       "      <td>9.0</td>\n",
       "    </tr>\n",
       "    <tr>\n",
       "      <th>2</th>\n",
       "      <td>1439522</td>\n",
       "      <td>5.0</td>\n",
       "      <td>64.0</td>\n",
       "      <td>32.0</td>\n",
       "      <td>U</td>\n",
       "      <td>2.0</td>\n",
       "      <td>52467.79</td>\n",
       "      <td>6.0</td>\n",
       "      <td>9.0</td>\n",
       "    </tr>\n",
       "    <tr>\n",
       "      <th>3</th>\n",
       "      <td>1562045</td>\n",
       "      <td>16.0</td>\n",
       "      <td>198.0</td>\n",
       "      <td>49.0</td>\n",
       "      <td>M</td>\n",
       "      <td>2.0</td>\n",
       "      <td>67454.65</td>\n",
       "      <td>3.0</td>\n",
       "      <td>6.0</td>\n",
       "    </tr>\n",
       "    <tr>\n",
       "      <th>4</th>\n",
       "      <td>5126305</td>\n",
       "      <td>12.0</td>\n",
       "      <td>145.0</td>\n",
       "      <td>33.0</td>\n",
       "      <td>F</td>\n",
       "      <td>2.0</td>\n",
       "      <td>103671.75</td>\n",
       "      <td>0.0</td>\n",
       "      <td>3.0</td>\n",
       "    </tr>\n",
       "    <tr>\n",
       "      <th>...</th>\n",
       "      <td>...</td>\n",
       "      <td>...</td>\n",
       "      <td>...</td>\n",
       "      <td>...</td>\n",
       "      <td>...</td>\n",
       "      <td>...</td>\n",
       "      <td>...</td>\n",
       "      <td>...</td>\n",
       "      <td>...</td>\n",
       "    </tr>\n",
       "    <tr>\n",
       "      <th>70604</th>\n",
       "      <td>7993686</td>\n",
       "      <td>4.0</td>\n",
       "      <td>56.0</td>\n",
       "      <td>38.5</td>\n",
       "      <td>U</td>\n",
       "      <td>3.0</td>\n",
       "      <td>1411062.68</td>\n",
       "      <td>5.0</td>\n",
       "      <td>5.0</td>\n",
       "    </tr>\n",
       "    <tr>\n",
       "      <th>70605</th>\n",
       "      <td>8981690</td>\n",
       "      <td>12.0</td>\n",
       "      <td>148.0</td>\n",
       "      <td>31.0</td>\n",
       "      <td>M</td>\n",
       "      <td>2.0</td>\n",
       "      <td>101867.07</td>\n",
       "      <td>6.0</td>\n",
       "      <td>6.0</td>\n",
       "    </tr>\n",
       "    <tr>\n",
       "      <th>70606</th>\n",
       "      <td>333913</td>\n",
       "      <td>16.0</td>\n",
       "      <td>198.0</td>\n",
       "      <td>61.5</td>\n",
       "      <td>F</td>\n",
       "      <td>2.0</td>\n",
       "      <td>40745.00</td>\n",
       "      <td>3.0</td>\n",
       "      <td>3.0</td>\n",
       "    </tr>\n",
       "    <tr>\n",
       "      <th>70607</th>\n",
       "      <td>1573142</td>\n",
       "      <td>21.0</td>\n",
       "      <td>255.0</td>\n",
       "      <td>68.0</td>\n",
       "      <td>M</td>\n",
       "      <td>3.0</td>\n",
       "      <td>475114.69</td>\n",
       "      <td>4.0</td>\n",
       "      <td>4.0</td>\n",
       "    </tr>\n",
       "    <tr>\n",
       "      <th>70608</th>\n",
       "      <td>5602139</td>\n",
       "      <td>21.0</td>\n",
       "      <td>254.0</td>\n",
       "      <td>59.5</td>\n",
       "      <td>F</td>\n",
       "      <td>3.0</td>\n",
       "      <td>157498.73</td>\n",
       "      <td>7.0</td>\n",
       "      <td>7.0</td>\n",
       "    </tr>\n",
       "  </tbody>\n",
       "</table>\n",
       "<p>70609 rows × 9 columns</p>\n",
       "</div>"
      ],
      "text/plain": [
       "       client_id  clnt_tenure_yr  clnt_tenure_mnth  clnt_age gendr  num_accts  \\\n",
       "0         836976             6.0              73.0      60.5     U        2.0   \n",
       "1        2304905             7.0              94.0      58.0     U        2.0   \n",
       "2        1439522             5.0              64.0      32.0     U        2.0   \n",
       "3        1562045            16.0             198.0      49.0     M        2.0   \n",
       "4        5126305            12.0             145.0      33.0     F        2.0   \n",
       "...          ...             ...               ...       ...   ...        ...   \n",
       "70604    7993686             4.0              56.0      38.5     U        3.0   \n",
       "70605    8981690            12.0             148.0      31.0     M        2.0   \n",
       "70606     333913            16.0             198.0      61.5     F        2.0   \n",
       "70607    1573142            21.0             255.0      68.0     M        3.0   \n",
       "70608    5602139            21.0             254.0      59.5     F        3.0   \n",
       "\n",
       "              bal  calls_6_mnth  logons_6_mnth  \n",
       "0        45105.30           6.0            9.0  \n",
       "1       110860.30           6.0            9.0  \n",
       "2        52467.79           6.0            9.0  \n",
       "3        67454.65           3.0            6.0  \n",
       "4       103671.75           0.0            3.0  \n",
       "...           ...           ...            ...  \n",
       "70604  1411062.68           5.0            5.0  \n",
       "70605   101867.07           6.0            6.0  \n",
       "70606    40745.00           3.0            3.0  \n",
       "70607   475114.69           4.0            4.0  \n",
       "70608   157498.73           7.0            7.0  \n",
       "\n",
       "[70609 rows x 9 columns]"
      ]
     },
     "execution_count": 3,
     "metadata": {},
     "output_type": "execute_result"
    }
   ],
   "source": [
    "# print each dataset and see details\n",
    "df_final_demo"
   ]
  },
  {
   "cell_type": "code",
   "execution_count": 4,
   "id": "04b21a1c-3cf0-4425-ad55-46ab690151d2",
   "metadata": {},
   "outputs": [
    {
     "data": {
      "text/html": [
       "<div>\n",
       "<style scoped>\n",
       "    .dataframe tbody tr th:only-of-type {\n",
       "        vertical-align: middle;\n",
       "    }\n",
       "\n",
       "    .dataframe tbody tr th {\n",
       "        vertical-align: top;\n",
       "    }\n",
       "\n",
       "    .dataframe thead th {\n",
       "        text-align: right;\n",
       "    }\n",
       "</style>\n",
       "<table border=\"1\" class=\"dataframe\">\n",
       "  <thead>\n",
       "    <tr style=\"text-align: right;\">\n",
       "      <th></th>\n",
       "      <th>client_id</th>\n",
       "      <th>Variation</th>\n",
       "    </tr>\n",
       "  </thead>\n",
       "  <tbody>\n",
       "    <tr>\n",
       "      <th>0</th>\n",
       "      <td>9988021</td>\n",
       "      <td>Test</td>\n",
       "    </tr>\n",
       "    <tr>\n",
       "      <th>1</th>\n",
       "      <td>8320017</td>\n",
       "      <td>Test</td>\n",
       "    </tr>\n",
       "    <tr>\n",
       "      <th>2</th>\n",
       "      <td>4033851</td>\n",
       "      <td>Control</td>\n",
       "    </tr>\n",
       "    <tr>\n",
       "      <th>3</th>\n",
       "      <td>1982004</td>\n",
       "      <td>Test</td>\n",
       "    </tr>\n",
       "    <tr>\n",
       "      <th>4</th>\n",
       "      <td>9294070</td>\n",
       "      <td>Control</td>\n",
       "    </tr>\n",
       "    <tr>\n",
       "      <th>...</th>\n",
       "      <td>...</td>\n",
       "      <td>...</td>\n",
       "    </tr>\n",
       "    <tr>\n",
       "      <th>70604</th>\n",
       "      <td>2443347</td>\n",
       "      <td>NaN</td>\n",
       "    </tr>\n",
       "    <tr>\n",
       "      <th>70605</th>\n",
       "      <td>8788427</td>\n",
       "      <td>NaN</td>\n",
       "    </tr>\n",
       "    <tr>\n",
       "      <th>70606</th>\n",
       "      <td>266828</td>\n",
       "      <td>NaN</td>\n",
       "    </tr>\n",
       "    <tr>\n",
       "      <th>70607</th>\n",
       "      <td>1266421</td>\n",
       "      <td>NaN</td>\n",
       "    </tr>\n",
       "    <tr>\n",
       "      <th>70608</th>\n",
       "      <td>9895983</td>\n",
       "      <td>NaN</td>\n",
       "    </tr>\n",
       "  </tbody>\n",
       "</table>\n",
       "<p>70609 rows × 2 columns</p>\n",
       "</div>"
      ],
      "text/plain": [
       "       client_id Variation\n",
       "0        9988021      Test\n",
       "1        8320017      Test\n",
       "2        4033851   Control\n",
       "3        1982004      Test\n",
       "4        9294070   Control\n",
       "...          ...       ...\n",
       "70604    2443347       NaN\n",
       "70605    8788427       NaN\n",
       "70606     266828       NaN\n",
       "70607    1266421       NaN\n",
       "70608    9895983       NaN\n",
       "\n",
       "[70609 rows x 2 columns]"
      ]
     },
     "execution_count": 4,
     "metadata": {},
     "output_type": "execute_result"
    }
   ],
   "source": [
    "df_final_experiment_clients"
   ]
  },
  {
   "cell_type": "code",
   "execution_count": 5,
   "id": "7c8c3e23-df89-491f-a078-aec44463e3c0",
   "metadata": {},
   "outputs": [
    {
     "data": {
      "text/html": [
       "<div>\n",
       "<style scoped>\n",
       "    .dataframe tbody tr th:only-of-type {\n",
       "        vertical-align: middle;\n",
       "    }\n",
       "\n",
       "    .dataframe tbody tr th {\n",
       "        vertical-align: top;\n",
       "    }\n",
       "\n",
       "    .dataframe thead th {\n",
       "        text-align: right;\n",
       "    }\n",
       "</style>\n",
       "<table border=\"1\" class=\"dataframe\">\n",
       "  <thead>\n",
       "    <tr style=\"text-align: right;\">\n",
       "      <th></th>\n",
       "      <th>client_id</th>\n",
       "      <th>visitor_id</th>\n",
       "      <th>visit_id</th>\n",
       "      <th>process_step</th>\n",
       "      <th>date_time</th>\n",
       "    </tr>\n",
       "  </thead>\n",
       "  <tbody>\n",
       "    <tr>\n",
       "      <th>0</th>\n",
       "      <td>9988021</td>\n",
       "      <td>580560515_7732621733</td>\n",
       "      <td>781255054_21935453173_531117</td>\n",
       "      <td>step_3</td>\n",
       "      <td>2017-04-17 15:27:07</td>\n",
       "    </tr>\n",
       "    <tr>\n",
       "      <th>1</th>\n",
       "      <td>9988021</td>\n",
       "      <td>580560515_7732621733</td>\n",
       "      <td>781255054_21935453173_531117</td>\n",
       "      <td>step_2</td>\n",
       "      <td>2017-04-17 15:26:51</td>\n",
       "    </tr>\n",
       "    <tr>\n",
       "      <th>2</th>\n",
       "      <td>9988021</td>\n",
       "      <td>580560515_7732621733</td>\n",
       "      <td>781255054_21935453173_531117</td>\n",
       "      <td>step_3</td>\n",
       "      <td>2017-04-17 15:19:22</td>\n",
       "    </tr>\n",
       "    <tr>\n",
       "      <th>3</th>\n",
       "      <td>9988021</td>\n",
       "      <td>580560515_7732621733</td>\n",
       "      <td>781255054_21935453173_531117</td>\n",
       "      <td>step_2</td>\n",
       "      <td>2017-04-17 15:19:13</td>\n",
       "    </tr>\n",
       "    <tr>\n",
       "      <th>4</th>\n",
       "      <td>9988021</td>\n",
       "      <td>580560515_7732621733</td>\n",
       "      <td>781255054_21935453173_531117</td>\n",
       "      <td>step_3</td>\n",
       "      <td>2017-04-17 15:18:04</td>\n",
       "    </tr>\n",
       "    <tr>\n",
       "      <th>...</th>\n",
       "      <td>...</td>\n",
       "      <td>...</td>\n",
       "      <td>...</td>\n",
       "      <td>...</td>\n",
       "      <td>...</td>\n",
       "    </tr>\n",
       "    <tr>\n",
       "      <th>343136</th>\n",
       "      <td>2443347</td>\n",
       "      <td>465784886_73090545671</td>\n",
       "      <td>136329900_10529659391_316129</td>\n",
       "      <td>confirm</td>\n",
       "      <td>2017-03-31 15:15:46</td>\n",
       "    </tr>\n",
       "    <tr>\n",
       "      <th>343137</th>\n",
       "      <td>2443347</td>\n",
       "      <td>465784886_73090545671</td>\n",
       "      <td>136329900_10529659391_316129</td>\n",
       "      <td>step_3</td>\n",
       "      <td>2017-03-31 15:14:53</td>\n",
       "    </tr>\n",
       "    <tr>\n",
       "      <th>343138</th>\n",
       "      <td>2443347</td>\n",
       "      <td>465784886_73090545671</td>\n",
       "      <td>136329900_10529659391_316129</td>\n",
       "      <td>step_2</td>\n",
       "      <td>2017-03-31 15:12:08</td>\n",
       "    </tr>\n",
       "    <tr>\n",
       "      <th>343139</th>\n",
       "      <td>2443347</td>\n",
       "      <td>465784886_73090545671</td>\n",
       "      <td>136329900_10529659391_316129</td>\n",
       "      <td>step_1</td>\n",
       "      <td>2017-03-31 15:11:37</td>\n",
       "    </tr>\n",
       "    <tr>\n",
       "      <th>343140</th>\n",
       "      <td>2443347</td>\n",
       "      <td>465784886_73090545671</td>\n",
       "      <td>136329900_10529659391_316129</td>\n",
       "      <td>start</td>\n",
       "      <td>2017-03-31 15:10:47</td>\n",
       "    </tr>\n",
       "  </tbody>\n",
       "</table>\n",
       "<p>343141 rows × 5 columns</p>\n",
       "</div>"
      ],
      "text/plain": [
       "        client_id             visitor_id                      visit_id  \\\n",
       "0         9988021   580560515_7732621733  781255054_21935453173_531117   \n",
       "1         9988021   580560515_7732621733  781255054_21935453173_531117   \n",
       "2         9988021   580560515_7732621733  781255054_21935453173_531117   \n",
       "3         9988021   580560515_7732621733  781255054_21935453173_531117   \n",
       "4         9988021   580560515_7732621733  781255054_21935453173_531117   \n",
       "...           ...                    ...                           ...   \n",
       "343136    2443347  465784886_73090545671  136329900_10529659391_316129   \n",
       "343137    2443347  465784886_73090545671  136329900_10529659391_316129   \n",
       "343138    2443347  465784886_73090545671  136329900_10529659391_316129   \n",
       "343139    2443347  465784886_73090545671  136329900_10529659391_316129   \n",
       "343140    2443347  465784886_73090545671  136329900_10529659391_316129   \n",
       "\n",
       "       process_step            date_time  \n",
       "0            step_3  2017-04-17 15:27:07  \n",
       "1            step_2  2017-04-17 15:26:51  \n",
       "2            step_3  2017-04-17 15:19:22  \n",
       "3            step_2  2017-04-17 15:19:13  \n",
       "4            step_3  2017-04-17 15:18:04  \n",
       "...             ...                  ...  \n",
       "343136      confirm  2017-03-31 15:15:46  \n",
       "343137       step_3  2017-03-31 15:14:53  \n",
       "343138       step_2  2017-03-31 15:12:08  \n",
       "343139       step_1  2017-03-31 15:11:37  \n",
       "343140        start  2017-03-31 15:10:47  \n",
       "\n",
       "[343141 rows x 5 columns]"
      ]
     },
     "execution_count": 5,
     "metadata": {},
     "output_type": "execute_result"
    }
   ],
   "source": [
    "df_final_web_data_pt1"
   ]
  },
  {
   "cell_type": "code",
   "execution_count": 6,
   "id": "ceb6f450-1727-45b7-a82f-7e941d8d19f4",
   "metadata": {},
   "outputs": [
    {
     "data": {
      "text/html": [
       "<div>\n",
       "<style scoped>\n",
       "    .dataframe tbody tr th:only-of-type {\n",
       "        vertical-align: middle;\n",
       "    }\n",
       "\n",
       "    .dataframe tbody tr th {\n",
       "        vertical-align: top;\n",
       "    }\n",
       "\n",
       "    .dataframe thead th {\n",
       "        text-align: right;\n",
       "    }\n",
       "</style>\n",
       "<table border=\"1\" class=\"dataframe\">\n",
       "  <thead>\n",
       "    <tr style=\"text-align: right;\">\n",
       "      <th></th>\n",
       "      <th>client_id</th>\n",
       "      <th>visitor_id</th>\n",
       "      <th>visit_id</th>\n",
       "      <th>process_step</th>\n",
       "      <th>date_time</th>\n",
       "    </tr>\n",
       "  </thead>\n",
       "  <tbody>\n",
       "    <tr>\n",
       "      <th>0</th>\n",
       "      <td>763412</td>\n",
       "      <td>601952081_10457207388</td>\n",
       "      <td>397475557_40440946728_419634</td>\n",
       "      <td>confirm</td>\n",
       "      <td>2017-06-06 08:56:00</td>\n",
       "    </tr>\n",
       "    <tr>\n",
       "      <th>1</th>\n",
       "      <td>6019349</td>\n",
       "      <td>442094451_91531546617</td>\n",
       "      <td>154620534_35331068705_522317</td>\n",
       "      <td>confirm</td>\n",
       "      <td>2017-06-01 11:59:27</td>\n",
       "    </tr>\n",
       "    <tr>\n",
       "      <th>2</th>\n",
       "      <td>6019349</td>\n",
       "      <td>442094451_91531546617</td>\n",
       "      <td>154620534_35331068705_522317</td>\n",
       "      <td>step_3</td>\n",
       "      <td>2017-06-01 11:58:48</td>\n",
       "    </tr>\n",
       "    <tr>\n",
       "      <th>3</th>\n",
       "      <td>6019349</td>\n",
       "      <td>442094451_91531546617</td>\n",
       "      <td>154620534_35331068705_522317</td>\n",
       "      <td>step_2</td>\n",
       "      <td>2017-06-01 11:58:08</td>\n",
       "    </tr>\n",
       "    <tr>\n",
       "      <th>4</th>\n",
       "      <td>6019349</td>\n",
       "      <td>442094451_91531546617</td>\n",
       "      <td>154620534_35331068705_522317</td>\n",
       "      <td>step_1</td>\n",
       "      <td>2017-06-01 11:57:58</td>\n",
       "    </tr>\n",
       "    <tr>\n",
       "      <th>...</th>\n",
       "      <td>...</td>\n",
       "      <td>...</td>\n",
       "      <td>...</td>\n",
       "      <td>...</td>\n",
       "      <td>...</td>\n",
       "    </tr>\n",
       "    <tr>\n",
       "      <th>412259</th>\n",
       "      <td>9668240</td>\n",
       "      <td>388766751_9038881013</td>\n",
       "      <td>922267647_3096648104_968866</td>\n",
       "      <td>start</td>\n",
       "      <td>2017-05-24 18:46:10</td>\n",
       "    </tr>\n",
       "    <tr>\n",
       "      <th>412260</th>\n",
       "      <td>9668240</td>\n",
       "      <td>388766751_9038881013</td>\n",
       "      <td>922267647_3096648104_968866</td>\n",
       "      <td>start</td>\n",
       "      <td>2017-05-24 18:45:29</td>\n",
       "    </tr>\n",
       "    <tr>\n",
       "      <th>412261</th>\n",
       "      <td>9668240</td>\n",
       "      <td>388766751_9038881013</td>\n",
       "      <td>922267647_3096648104_968866</td>\n",
       "      <td>step_1</td>\n",
       "      <td>2017-05-24 18:44:51</td>\n",
       "    </tr>\n",
       "    <tr>\n",
       "      <th>412262</th>\n",
       "      <td>9668240</td>\n",
       "      <td>388766751_9038881013</td>\n",
       "      <td>922267647_3096648104_968866</td>\n",
       "      <td>start</td>\n",
       "      <td>2017-05-24 18:44:34</td>\n",
       "    </tr>\n",
       "    <tr>\n",
       "      <th>412263</th>\n",
       "      <td>674799</td>\n",
       "      <td>947159805_81558194550</td>\n",
       "      <td>86152093_47511127657_716022</td>\n",
       "      <td>start</td>\n",
       "      <td>2017-06-03 12:17:09</td>\n",
       "    </tr>\n",
       "  </tbody>\n",
       "</table>\n",
       "<p>412264 rows × 5 columns</p>\n",
       "</div>"
      ],
      "text/plain": [
       "        client_id             visitor_id                      visit_id  \\\n",
       "0          763412  601952081_10457207388  397475557_40440946728_419634   \n",
       "1         6019349  442094451_91531546617  154620534_35331068705_522317   \n",
       "2         6019349  442094451_91531546617  154620534_35331068705_522317   \n",
       "3         6019349  442094451_91531546617  154620534_35331068705_522317   \n",
       "4         6019349  442094451_91531546617  154620534_35331068705_522317   \n",
       "...           ...                    ...                           ...   \n",
       "412259    9668240   388766751_9038881013   922267647_3096648104_968866   \n",
       "412260    9668240   388766751_9038881013   922267647_3096648104_968866   \n",
       "412261    9668240   388766751_9038881013   922267647_3096648104_968866   \n",
       "412262    9668240   388766751_9038881013   922267647_3096648104_968866   \n",
       "412263     674799  947159805_81558194550   86152093_47511127657_716022   \n",
       "\n",
       "       process_step            date_time  \n",
       "0           confirm  2017-06-06 08:56:00  \n",
       "1           confirm  2017-06-01 11:59:27  \n",
       "2            step_3  2017-06-01 11:58:48  \n",
       "3            step_2  2017-06-01 11:58:08  \n",
       "4            step_1  2017-06-01 11:57:58  \n",
       "...             ...                  ...  \n",
       "412259        start  2017-05-24 18:46:10  \n",
       "412260        start  2017-05-24 18:45:29  \n",
       "412261       step_1  2017-05-24 18:44:51  \n",
       "412262        start  2017-05-24 18:44:34  \n",
       "412263        start  2017-06-03 12:17:09  \n",
       "\n",
       "[412264 rows x 5 columns]"
      ]
     },
     "execution_count": 6,
     "metadata": {},
     "output_type": "execute_result"
    }
   ],
   "source": [
    "df_final_web_data_pt2"
   ]
  },
  {
   "cell_type": "code",
   "execution_count": 7,
   "id": "81c06e07-590b-41f6-b521-0d19df01fb9c",
   "metadata": {},
   "outputs": [
    {
     "name": "stdout",
     "output_type": "stream",
     "text": [
      "Index(['client_id', 'clnt_tenure_yr', 'clnt_tenure_mnth', 'clnt_age', 'gendr',\n",
      "       'num_accts', 'bal', 'calls_6_mnth', 'logons_6_mnth'],\n",
      "      dtype='object')\n",
      "Index(['client_id', 'Variation'], dtype='object')\n",
      "Index(['client_id', 'visitor_id', 'visit_id', 'process_step', 'date_time'], dtype='object')\n",
      "Index(['client_id', 'visitor_id', 'visit_id', 'process_step', 'date_time'], dtype='object')\n"
     ]
    }
   ],
   "source": [
    "print(df_final_demo.columns)\n",
    "print(df_final_experiment_clients.columns)\n",
    "print(df_final_web_data_pt1.columns)\n",
    "print(df_final_web_data_pt2.columns)"
   ]
  },
  {
   "cell_type": "code",
   "execution_count": 8,
   "id": "009b41e0-d9bb-45b4-bb41-f614cf89e00b",
   "metadata": {},
   "outputs": [
    {
     "name": "stdout",
     "output_type": "stream",
     "text": [
      "Merged Digital Footprints Info:\n",
      "        client_id             visitor_id                      visit_id  \\\n",
      "0         9988021   580560515_7732621733  781255054_21935453173_531117   \n",
      "1         9988021   580560515_7732621733  781255054_21935453173_531117   \n",
      "2         9988021   580560515_7732621733  781255054_21935453173_531117   \n",
      "3         9988021   580560515_7732621733  781255054_21935453173_531117   \n",
      "4         9988021   580560515_7732621733  781255054_21935453173_531117   \n",
      "...           ...                    ...                           ...   \n",
      "412259    9668240   388766751_9038881013   922267647_3096648104_968866   \n",
      "412260    9668240   388766751_9038881013   922267647_3096648104_968866   \n",
      "412261    9668240   388766751_9038881013   922267647_3096648104_968866   \n",
      "412262    9668240   388766751_9038881013   922267647_3096648104_968866   \n",
      "412263     674799  947159805_81558194550   86152093_47511127657_716022   \n",
      "\n",
      "       process_step            date_time  \n",
      "0            step_3  2017-04-17 15:27:07  \n",
      "1            step_2  2017-04-17 15:26:51  \n",
      "2            step_3  2017-04-17 15:19:22  \n",
      "3            step_2  2017-04-17 15:19:13  \n",
      "4            step_3  2017-04-17 15:18:04  \n",
      "...             ...                  ...  \n",
      "412259        start  2017-05-24 18:46:10  \n",
      "412260        start  2017-05-24 18:45:29  \n",
      "412261       step_1  2017-05-24 18:44:51  \n",
      "412262        start  2017-05-24 18:44:34  \n",
      "412263        start  2017-06-03 12:17:09  \n",
      "\n",
      "[755405 rows x 5 columns]\n",
      "Index(['client_id', 'visitor_id', 'visit_id', 'process_step', 'date_time'], dtype='object')\n"
     ]
    }
   ],
   "source": [
    "# Merge pt_1 and pt_2\n",
    "df_final_web_data1 = pd.concat([df_final_web_data_pt1, df_final_web_data_pt2])\n",
    "\n",
    "# Display basic info about the merged dataset\n",
    "print(\"Merged Digital Footprints Info:\")\n",
    "print(df_final_web_data1)\n",
    "\n",
    "print(df_final_web_data1.columns)"
   ]
  },
  {
   "cell_type": "code",
   "execution_count": 9,
   "id": "d599417f-b2b1-4fbb-be21-0a8b2ab65010",
   "metadata": {},
   "outputs": [
    {
     "name": "stdout",
     "output_type": "stream",
     "text": [
      "   client_id  clnt_tenure_yr  clnt_tenure_mnth  clnt_age gendr  num_accts  \\\n",
      "0     836976             6.0              73.0      60.5     U        2.0   \n",
      "1     836976             6.0              73.0      60.5     U        2.0   \n",
      "2     836976             6.0              73.0      60.5     U        2.0   \n",
      "3     836976             6.0              73.0      60.5     U        2.0   \n",
      "4     836976             6.0              73.0      60.5     U        2.0   \n",
      "\n",
      "       bal  calls_6_mnth  logons_6_mnth Variation            visitor_id  \\\n",
      "0  45105.3           6.0            9.0      Test  427070339_1413275162   \n",
      "1  45105.3           6.0            9.0      Test  427070339_1413275162   \n",
      "2  45105.3           6.0            9.0      Test  427070339_1413275162   \n",
      "3  45105.3           6.0            9.0      Test  427070339_1413275162   \n",
      "4  45105.3           6.0            9.0      Test  427070339_1413275162   \n",
      "\n",
      "                      visit_id process_step            date_time  \n",
      "0  228976764_46825473280_96584      confirm  2017-04-02 11:51:13  \n",
      "1  228976764_46825473280_96584      confirm  2017-04-02 11:47:50  \n",
      "2  228976764_46825473280_96584      confirm  2017-04-02 11:46:45  \n",
      "3  228976764_46825473280_96584       step_3  2017-04-02 11:23:08  \n",
      "4  228976764_46825473280_96584       step_2  2017-04-02 11:22:24  \n"
     ]
    }
   ],
   "source": [
    "# Merge df_final_demo with df_final_experiment_clients\n",
    "merged_demo_experiment = pd.merge(df_final_demo, df_final_experiment_clients, on='client_id', how='inner')\n",
    "\n",
    "# Merge merged_demo_experiment with df_final_web_data\n",
    "final_merged_data = pd.merge(merged_demo_experiment, df_final_web_data1, on='client_id', how='left')\n",
    "\n",
    "# Display the first few rows of the merged dataset to verify\n",
    "print(final_merged_data.head())\n"
   ]
  },
  {
   "cell_type": "code",
   "execution_count": 10,
   "id": "24fe45ea-9bf6-405f-8f7b-2e7d6dfcf9db",
   "metadata": {},
   "outputs": [
    {
     "name": "stdout",
     "output_type": "stream",
     "text": [
      "<class 'pandas.core.frame.DataFrame'>\n",
      "RangeIndex: 449831 entries, 0 to 449830\n",
      "Data columns (total 14 columns):\n",
      " #   Column            Non-Null Count   Dtype  \n",
      "---  ------            --------------   -----  \n",
      " 0   client_id         449831 non-null  int64  \n",
      " 1   clnt_tenure_yr    449716 non-null  float64\n",
      " 2   clnt_tenure_mnth  449716 non-null  float64\n",
      " 3   clnt_age          449704 non-null  float64\n",
      " 4   gendr             449716 non-null  object \n",
      " 5   num_accts         449716 non-null  float64\n",
      " 6   bal               449716 non-null  float64\n",
      " 7   calls_6_mnth      449716 non-null  float64\n",
      " 8   logons_6_mnth     449716 non-null  float64\n",
      " 9   Variation         321309 non-null  object \n",
      " 10  visitor_id        449831 non-null  object \n",
      " 11  visit_id          449831 non-null  object \n",
      " 12  process_step      449831 non-null  object \n",
      " 13  date_time         449831 non-null  object \n",
      "dtypes: float64(7), int64(1), object(6)\n",
      "memory usage: 48.0+ MB\n"
     ]
    }
   ],
   "source": [
    "final_merged_data.info()"
   ]
  },
  {
   "cell_type": "code",
   "execution_count": 11,
   "id": "57cc316d-35bc-4db7-be8c-a817f6474266",
   "metadata": {},
   "outputs": [
    {
     "name": "stdout",
     "output_type": "stream",
     "text": [
      "Missing Values:\n",
      "client_id                0\n",
      "clnt_tenure_yr         115\n",
      "clnt_tenure_mnth       115\n",
      "clnt_age               127\n",
      "gendr                  115\n",
      "num_accts              115\n",
      "bal                    115\n",
      "calls_6_mnth           115\n",
      "logons_6_mnth          115\n",
      "Variation           128522\n",
      "visitor_id               0\n",
      "visit_id                 0\n",
      "process_step             0\n",
      "date_time                0\n",
      "dtype: int64\n"
     ]
    }
   ],
   "source": [
    "# find out the missing values \n",
    "\n",
    "missing_values = final_merged_data.isnull().sum()\n",
    "print(\"Missing Values:\")\n",
    "print(missing_values)\n"
   ]
  },
  {
   "cell_type": "code",
   "execution_count": 12,
   "id": "95ecb925-86ab-4740-9308-226f74e4a3ff",
   "metadata": {},
   "outputs": [
    {
     "name": "stdout",
     "output_type": "stream",
     "text": [
      "Details of the 'process_step' column:\n",
      "process_step\n",
      "start      145588\n",
      "step_1      95896\n",
      "step_2      79571\n",
      "step_3      68217\n",
      "confirm     60559\n",
      "Name: count, dtype: int64\n"
     ]
    }
   ],
   "source": [
    "# Get details of the 'process completion' column\n",
    "process_completion_details = final_merged_data['process_step'].value_counts()\n",
    "\n",
    "# Display the details of the 'process_step' column\n",
    "print(\"Details of the 'process_step' column:\")\n",
    "print(process_completion_details)\n"
   ]
  },
  {
   "cell_type": "code",
   "execution_count": 13,
   "id": "def3d750-88bf-40ce-8653-2a9ae1cafcdc",
   "metadata": {},
   "outputs": [
    {
     "name": "stdout",
     "output_type": "stream",
     "text": [
      "Details of the 'Variation' column:\n",
      "Variation\n",
      "Test       177847\n",
      "Control    143462\n",
      "Name: count, dtype: int64\n"
     ]
    }
   ],
   "source": [
    "# Get details of the 'Variation' column\n",
    "variation_details = final_merged_data['Variation'].value_counts()\n",
    "\n",
    "# Display the details of the 'Variation' column\n",
    "print(\"Details of the 'Variation' column:\")\n",
    "print(variation_details)\n"
   ]
  },
  {
   "cell_type": "code",
   "execution_count": 14,
   "id": "e8358d17-1423-4b47-aba5-594be3746a55",
   "metadata": {},
   "outputs": [
    {
     "name": "stdout",
     "output_type": "stream",
     "text": [
      "Shape of the cleaned dataset: (321309, 14)\n"
     ]
    }
   ],
   "source": [
    "# Remove rows with missing values in the 'Variation' column\n",
    "cleaned_data = final_merged_data.dropna(subset=['Variation'])\n",
    "\n",
    "# Display the shape of the cleaned dataset to verify the number of rows after removal\n",
    "print(\"Shape of the cleaned dataset:\", cleaned_data.shape)\n"
   ]
  },
  {
   "cell_type": "code",
   "execution_count": 15,
   "id": "1de56eb0-be87-4afb-9a1d-2e424aabd8e2",
   "metadata": {},
   "outputs": [
    {
     "name": "stdout",
     "output_type": "stream",
     "text": [
      "Missing Values in all columns of the cleaned dataset:\n",
      "client_id             0\n",
      "clnt_tenure_yr      102\n",
      "clnt_tenure_mnth    102\n",
      "clnt_age            114\n",
      "gendr               102\n",
      "num_accts           102\n",
      "bal                 102\n",
      "calls_6_mnth        102\n",
      "logons_6_mnth       102\n",
      "Variation             0\n",
      "visitor_id            0\n",
      "visit_id              0\n",
      "process_step          0\n",
      "date_time             0\n",
      "dtype: int64\n"
     ]
    }
   ],
   "source": [
    "# Check for missing values in all columns of the cleaned dataset\n",
    "missing_values_cleaned = cleaned_data.isnull().sum()\n",
    "\n",
    "# Display the missing values in all columns\n",
    "print(\"Missing Values in all columns of the cleaned dataset:\")\n",
    "print(missing_values_cleaned)\n"
   ]
  },
  {
   "cell_type": "code",
   "execution_count": 16,
   "id": "d5d9b2e4-90c3-4335-96a7-1008e8ec349d",
   "metadata": {},
   "outputs": [
    {
     "name": "stdout",
     "output_type": "stream",
     "text": [
      "Summary Statistics for Client Age:\n",
      "count    321195.000000\n",
      "mean         48.553511\n",
      "std          15.645588\n",
      "min          17.000000\n",
      "25%          34.500000\n",
      "50%          50.000000\n",
      "75%          61.000000\n",
      "max          96.000000\n",
      "Name: clnt_age, dtype: float64\n",
      "\n",
      "Frequency of Gender Categories:\n",
      "gendr\n",
      "U    108884\n",
      "M    108013\n",
      "F    104302\n",
      "X         8\n",
      "Name: count, dtype: int64\n"
     ]
    }
   ],
   "source": [
    "print(\"Summary Statistics for Client Age:\")\n",
    "print(cleaned_data['clnt_age'].describe())\n",
    "\n",
    "print(\"\\nFrequency of Gender Categories:\")\n",
    "print(cleaned_data['gendr'].value_counts())"
   ]
  },
  {
   "cell_type": "code",
   "execution_count": 17,
   "id": "3c398ec1-5531-4485-a77e-c4f56802c549",
   "metadata": {},
   "outputs": [
    {
     "name": "stdout",
     "output_type": "stream",
     "text": [
      "Highest age in the 'clnt_age' column: 96.0\n",
      "Lowest age in the 'clnt_age' column: 17.0\n"
     ]
    }
   ],
   "source": [
    "# Find the highest and lowest values in the 'clnt_age' column\n",
    "max_age = cleaned_data['clnt_age'].max()\n",
    "min_age = cleaned_data['clnt_age'].min()\n",
    "\n",
    "# Display the highest and lowest values\n",
    "print(\"Highest age in the 'clnt_age' column:\", max_age)\n",
    "print(\"Lowest age in the 'clnt_age' column:\", min_age)\n"
   ]
  },
  {
   "cell_type": "markdown",
   "id": "dd082715-2c06-487f-be2c-41b3fae4468f",
   "metadata": {},
   "source": [
    "## Starting with data cleaning"
   ]
  },
  {
   "cell_type": "code",
   "execution_count": 18,
   "id": "0e62bb4f-8f2d-41bd-890e-1ce919e51064",
   "metadata": {},
   "outputs": [
    {
     "name": "stdout",
     "output_type": "stream",
     "text": [
      "Completion rates for each step of the process for the test group:\n",
      "process_step\n",
      "start      56474\n",
      "step_1     38768\n",
      "step_2     30989\n",
      "step_3     25894\n",
      "confirm    25722\n",
      "Name: count, dtype: int64\n",
      "\n",
      "Completion counts for Control group:\n",
      "process_step\n",
      "start      47608\n",
      "step_1     29668\n",
      "step_2     25886\n",
      "step_3     22795\n",
      "confirm    17505\n",
      "Name: count, dtype: int64\n"
     ]
    }
   ],
   "source": [
    "# Calculate completion rates for each step of the process for both test and control groups\n",
    "test_group_completion = final_merged_data[final_merged_data['Variation'] == 'Test']['process_step'].value_counts()\n",
    "control_group_completion = final_merged_data[final_merged_data['Variation'] == 'Control']['process_step'].value_counts()\n",
    "\n",
    "# Display completion rates for each step of the process for the test/control group\n",
    "print(\"Completion rates for each step of the process for the test group:\")\n",
    "print(test_group_completion)\n",
    "\n",
    "print(\"\\nCompletion counts for Control group:\")\n",
    "print(control_group_completion)\n",
    "\n",
    "\n",
    "# Filter data for test and control groups\n",
    "#test_group_data = final_merged_data[final_merged_data['Variation'] == 'Test']\n",
    "#control_group_data = final_merged_data[final_merged_data['Variation'] == 'Control']\n",
    "\n",
    "# Get completion counts for each group\n",
    "#test_group_completion = test_group_data['process_step'].value_counts()\n",
    "#control_group_completion = control_group_data['process_step'].value_counts()\n",
    "\n",
    "# Display the completion counts for each group\n",
    "#print(\"Completion counts for Test group:\")\n",
    "#print(test_group_completion)\n",
    "\n",
    "#print(\"\\nCompletion counts for Control group:\")\n",
    "#print(control_group_completion)\n"
   ]
  },
  {
   "cell_type": "markdown",
   "id": "45d30ce0-14a6-47fd-ae4f-baca42b308e5",
   "metadata": {},
   "source": [
    "## Identify if test group has more reaching confirm step using chi2 test"
   ]
  },
  {
   "cell_type": "code",
   "execution_count": 19,
   "id": "5e7b66ff-20f5-4356-b632-3b66b8a4cf95",
   "metadata": {},
   "outputs": [
    {
     "name": "stdout",
     "output_type": "stream",
     "text": [
      "Contingency Table:\n",
      "               Test  Control\n",
      "process_step                \n",
      "start         56474    47608\n",
      "step_1        38768    29668\n",
      "step_2        30989    25886\n",
      "step_3        25894    22795\n",
      "confirm       25722    17505\n",
      "\n",
      "Results of Chi-Square Test:\n",
      "Chi-Square Statistic: 508.43647630235114\n",
      "P-value: 1.0030756272739788e-108\n",
      "Degrees of Freedom: 4\n",
      "Expected Frequencies Table:\n",
      "[[57610.18662409 46471.81337591]\n",
      " [37879.85176886 30556.14823114]\n",
      " [31480.74944991 25394.25055009]\n",
      " [26949.73555985 21739.26444015]\n",
      " [23926.47659729 19300.52340271]]\n"
     ]
    }
   ],
   "source": [
    "from scipy.stats import chi2_contingency\n",
    "\n",
    "# Create a contingency table of completion counts for test and control groups\n",
    "contingency_table = pd.concat([test_group_completion, control_group_completion], axis=1, keys=['Test', 'Control'])\n",
    "\n",
    "# Display the contingency table\n",
    "print(\"Contingency Table:\")\n",
    "print(contingency_table)\n",
    "\n",
    "# Perform chi-square test for independence\n",
    "chi2, p, dof, expected = chi2_contingency(contingency_table)\n",
    "\n",
    "# Display the results of the chi-square test\n",
    "print(\"\\nResults of Chi-Square Test:\")\n",
    "print(\"Chi-Square Statistic:\", chi2)\n",
    "print(\"P-value:\", p)\n",
    "print(\"Degrees of Freedom:\", dof)\n",
    "print(\"Expected Frequencies Table:\")\n",
    "print(expected)\n"
   ]
  },
  {
   "cell_type": "markdown",
   "id": "01f78c29-39ca-4810-aebf-463882d3b6b0",
   "metadata": {},
   "source": [
    "## Interpretation:\n",
    "\n",
    "The p-value is very small (close to zero), indicating strong evidence against the null hypothesis.\n",
    "Since the p-value is less than the typical significance level of 0.05, we reject the null hypothesis.\n",
    "Therefore, we conclude that there is a significant difference in completion rates between the test and control groups."
   ]
  },
  {
   "cell_type": "markdown",
   "id": "12848792-813f-415b-b969-7a6a675fc24f",
   "metadata": {},
   "source": [
    "## however, the number of clients enrolled in test vs control group were not equal, therefore the results were not trustworthy.\n",
    "\n",
    "Before mking final conclusions about the data, I equalized the number of clients in test and control group by using the following set of commands where I first filtered the dataset based on the 'Variation' column to separate the data into test and control groups.\n",
    "Then, I sampled an equal number of observations from each group using the sample() method.\n",
    "Finally, I concatenated the balanced samples to create a balanced dataset for A/B testing.\n"
   ]
  },
  {
   "cell_type": "code",
   "execution_count": 20,
   "id": "4bccbbe1-b00b-4277-a59e-33dc508fb260",
   "metadata": {},
   "outputs": [
    {
     "data": {
      "text/html": [
       "<div>\n",
       "<style scoped>\n",
       "    .dataframe tbody tr th:only-of-type {\n",
       "        vertical-align: middle;\n",
       "    }\n",
       "\n",
       "    .dataframe tbody tr th {\n",
       "        vertical-align: top;\n",
       "    }\n",
       "\n",
       "    .dataframe thead th {\n",
       "        text-align: right;\n",
       "    }\n",
       "</style>\n",
       "<table border=\"1\" class=\"dataframe\">\n",
       "  <thead>\n",
       "    <tr style=\"text-align: right;\">\n",
       "      <th></th>\n",
       "      <th>client_id</th>\n",
       "      <th>clnt_tenure_yr</th>\n",
       "      <th>clnt_tenure_mnth</th>\n",
       "      <th>clnt_age</th>\n",
       "      <th>gendr</th>\n",
       "      <th>num_accts</th>\n",
       "      <th>bal</th>\n",
       "      <th>calls_6_mnth</th>\n",
       "      <th>logons_6_mnth</th>\n",
       "      <th>Variation</th>\n",
       "      <th>visitor_id</th>\n",
       "      <th>visit_id</th>\n",
       "      <th>process_step</th>\n",
       "      <th>date_time</th>\n",
       "    </tr>\n",
       "  </thead>\n",
       "  <tbody>\n",
       "    <tr>\n",
       "      <th>81005</th>\n",
       "      <td>228538</td>\n",
       "      <td>4.0</td>\n",
       "      <td>58.0</td>\n",
       "      <td>53.0</td>\n",
       "      <td>U</td>\n",
       "      <td>2.0</td>\n",
       "      <td>61111.76</td>\n",
       "      <td>6.0</td>\n",
       "      <td>9.0</td>\n",
       "      <td>Test</td>\n",
       "      <td>161021476_63636242143</td>\n",
       "      <td>581665674_95575671684_54041</td>\n",
       "      <td>step_3</td>\n",
       "      <td>2017-04-18 18:29:10</td>\n",
       "    </tr>\n",
       "    <tr>\n",
       "      <th>74070</th>\n",
       "      <td>4412023</td>\n",
       "      <td>13.0</td>\n",
       "      <td>158.0</td>\n",
       "      <td>48.0</td>\n",
       "      <td>M</td>\n",
       "      <td>2.0</td>\n",
       "      <td>34099.80</td>\n",
       "      <td>0.0</td>\n",
       "      <td>3.0</td>\n",
       "      <td>Test</td>\n",
       "      <td>823078943_6763863163</td>\n",
       "      <td>59123095_7042697946_378906</td>\n",
       "      <td>start</td>\n",
       "      <td>2017-06-20 13:25:13</td>\n",
       "    </tr>\n",
       "    <tr>\n",
       "      <th>292618</th>\n",
       "      <td>7512585</td>\n",
       "      <td>5.0</td>\n",
       "      <td>70.0</td>\n",
       "      <td>56.5</td>\n",
       "      <td>U</td>\n",
       "      <td>2.0</td>\n",
       "      <td>54317.69</td>\n",
       "      <td>3.0</td>\n",
       "      <td>6.0</td>\n",
       "      <td>Test</td>\n",
       "      <td>873808444_11765995232</td>\n",
       "      <td>440211828_72927132792_200407</td>\n",
       "      <td>start</td>\n",
       "      <td>2017-04-05 20:06:37</td>\n",
       "    </tr>\n",
       "    <tr>\n",
       "      <th>99112</th>\n",
       "      <td>3740163</td>\n",
       "      <td>6.0</td>\n",
       "      <td>73.0</td>\n",
       "      <td>55.5</td>\n",
       "      <td>U</td>\n",
       "      <td>2.0</td>\n",
       "      <td>53753.19</td>\n",
       "      <td>0.0</td>\n",
       "      <td>3.0</td>\n",
       "      <td>Test</td>\n",
       "      <td>453979521_70536591828</td>\n",
       "      <td>304648590_5273315045_713357</td>\n",
       "      <td>step_3</td>\n",
       "      <td>2017-04-03 14:48:46</td>\n",
       "    </tr>\n",
       "    <tr>\n",
       "      <th>311626</th>\n",
       "      <td>68276</td>\n",
       "      <td>19.0</td>\n",
       "      <td>238.0</td>\n",
       "      <td>59.5</td>\n",
       "      <td>M</td>\n",
       "      <td>3.0</td>\n",
       "      <td>140757.33</td>\n",
       "      <td>6.0</td>\n",
       "      <td>9.0</td>\n",
       "      <td>Test</td>\n",
       "      <td>978252446_10240099330</td>\n",
       "      <td>379543913_38164453173_768346</td>\n",
       "      <td>start</td>\n",
       "      <td>2017-04-14 08:29:05</td>\n",
       "    </tr>\n",
       "    <tr>\n",
       "      <th>...</th>\n",
       "      <td>...</td>\n",
       "      <td>...</td>\n",
       "      <td>...</td>\n",
       "      <td>...</td>\n",
       "      <td>...</td>\n",
       "      <td>...</td>\n",
       "      <td>...</td>\n",
       "      <td>...</td>\n",
       "      <td>...</td>\n",
       "      <td>...</td>\n",
       "      <td>...</td>\n",
       "      <td>...</td>\n",
       "      <td>...</td>\n",
       "      <td>...</td>\n",
       "    </tr>\n",
       "    <tr>\n",
       "      <th>122535</th>\n",
       "      <td>8504603</td>\n",
       "      <td>8.0</td>\n",
       "      <td>98.0</td>\n",
       "      <td>48.0</td>\n",
       "      <td>F</td>\n",
       "      <td>2.0</td>\n",
       "      <td>27042.94</td>\n",
       "      <td>6.0</td>\n",
       "      <td>9.0</td>\n",
       "      <td>Control</td>\n",
       "      <td>199134612_34518628114</td>\n",
       "      <td>169445358_14707236090_685008</td>\n",
       "      <td>start</td>\n",
       "      <td>2017-05-31 16:20:51</td>\n",
       "    </tr>\n",
       "    <tr>\n",
       "      <th>142813</th>\n",
       "      <td>5532707</td>\n",
       "      <td>7.0</td>\n",
       "      <td>93.0</td>\n",
       "      <td>29.0</td>\n",
       "      <td>U</td>\n",
       "      <td>2.0</td>\n",
       "      <td>37272.93</td>\n",
       "      <td>2.0</td>\n",
       "      <td>5.0</td>\n",
       "      <td>Control</td>\n",
       "      <td>514569688_30896188296</td>\n",
       "      <td>434770316_83622910533_446050</td>\n",
       "      <td>start</td>\n",
       "      <td>2017-04-09 13:15:36</td>\n",
       "    </tr>\n",
       "    <tr>\n",
       "      <th>182495</th>\n",
       "      <td>1542714</td>\n",
       "      <td>16.0</td>\n",
       "      <td>193.0</td>\n",
       "      <td>52.5</td>\n",
       "      <td>F</td>\n",
       "      <td>3.0</td>\n",
       "      <td>106695.77</td>\n",
       "      <td>1.0</td>\n",
       "      <td>4.0</td>\n",
       "      <td>Control</td>\n",
       "      <td>161093509_62142277551</td>\n",
       "      <td>368606605_21951059786_941050</td>\n",
       "      <td>step_1</td>\n",
       "      <td>2017-04-06 01:35:38</td>\n",
       "    </tr>\n",
       "    <tr>\n",
       "      <th>147482</th>\n",
       "      <td>2831452</td>\n",
       "      <td>5.0</td>\n",
       "      <td>70.0</td>\n",
       "      <td>19.5</td>\n",
       "      <td>U</td>\n",
       "      <td>2.0</td>\n",
       "      <td>35116.99</td>\n",
       "      <td>1.0</td>\n",
       "      <td>4.0</td>\n",
       "      <td>Control</td>\n",
       "      <td>738642083_42844461145</td>\n",
       "      <td>636844041_11857158905_71676</td>\n",
       "      <td>step_3</td>\n",
       "      <td>2017-04-08 11:48:16</td>\n",
       "    </tr>\n",
       "    <tr>\n",
       "      <th>127713</th>\n",
       "      <td>8408800</td>\n",
       "      <td>17.0</td>\n",
       "      <td>215.0</td>\n",
       "      <td>45.5</td>\n",
       "      <td>M</td>\n",
       "      <td>2.0</td>\n",
       "      <td>35206.23</td>\n",
       "      <td>0.0</td>\n",
       "      <td>3.0</td>\n",
       "      <td>Control</td>\n",
       "      <td>954205764_87484239833</td>\n",
       "      <td>878592983_90079559067_679098</td>\n",
       "      <td>step_2</td>\n",
       "      <td>2017-03-30 00:44:56</td>\n",
       "    </tr>\n",
       "  </tbody>\n",
       "</table>\n",
       "<p>286924 rows × 14 columns</p>\n",
       "</div>"
      ],
      "text/plain": [
       "        client_id  clnt_tenure_yr  clnt_tenure_mnth  clnt_age gendr  \\\n",
       "81005      228538             4.0              58.0      53.0     U   \n",
       "74070     4412023            13.0             158.0      48.0     M   \n",
       "292618    7512585             5.0              70.0      56.5     U   \n",
       "99112     3740163             6.0              73.0      55.5     U   \n",
       "311626      68276            19.0             238.0      59.5     M   \n",
       "...           ...             ...               ...       ...   ...   \n",
       "122535    8504603             8.0              98.0      48.0     F   \n",
       "142813    5532707             7.0              93.0      29.0     U   \n",
       "182495    1542714            16.0             193.0      52.5     F   \n",
       "147482    2831452             5.0              70.0      19.5     U   \n",
       "127713    8408800            17.0             215.0      45.5     M   \n",
       "\n",
       "        num_accts        bal  calls_6_mnth  logons_6_mnth Variation  \\\n",
       "81005         2.0   61111.76           6.0            9.0      Test   \n",
       "74070         2.0   34099.80           0.0            3.0      Test   \n",
       "292618        2.0   54317.69           3.0            6.0      Test   \n",
       "99112         2.0   53753.19           0.0            3.0      Test   \n",
       "311626        3.0  140757.33           6.0            9.0      Test   \n",
       "...           ...        ...           ...            ...       ...   \n",
       "122535        2.0   27042.94           6.0            9.0   Control   \n",
       "142813        2.0   37272.93           2.0            5.0   Control   \n",
       "182495        3.0  106695.77           1.0            4.0   Control   \n",
       "147482        2.0   35116.99           1.0            4.0   Control   \n",
       "127713        2.0   35206.23           0.0            3.0   Control   \n",
       "\n",
       "                   visitor_id                      visit_id process_step  \\\n",
       "81005   161021476_63636242143   581665674_95575671684_54041       step_3   \n",
       "74070    823078943_6763863163    59123095_7042697946_378906        start   \n",
       "292618  873808444_11765995232  440211828_72927132792_200407        start   \n",
       "99112   453979521_70536591828   304648590_5273315045_713357       step_3   \n",
       "311626  978252446_10240099330  379543913_38164453173_768346        start   \n",
       "...                       ...                           ...          ...   \n",
       "122535  199134612_34518628114  169445358_14707236090_685008        start   \n",
       "142813  514569688_30896188296  434770316_83622910533_446050        start   \n",
       "182495  161093509_62142277551  368606605_21951059786_941050       step_1   \n",
       "147482  738642083_42844461145   636844041_11857158905_71676       step_3   \n",
       "127713  954205764_87484239833  878592983_90079559067_679098       step_2   \n",
       "\n",
       "                  date_time  \n",
       "81005   2017-04-18 18:29:10  \n",
       "74070   2017-06-20 13:25:13  \n",
       "292618  2017-04-05 20:06:37  \n",
       "99112   2017-04-03 14:48:46  \n",
       "311626  2017-04-14 08:29:05  \n",
       "...                     ...  \n",
       "122535  2017-05-31 16:20:51  \n",
       "142813  2017-04-09 13:15:36  \n",
       "182495  2017-04-06 01:35:38  \n",
       "147482  2017-04-08 11:48:16  \n",
       "127713  2017-03-30 00:44:56  \n",
       "\n",
       "[286924 rows x 14 columns]"
      ]
     },
     "execution_count": 20,
     "metadata": {},
     "output_type": "execute_result"
    }
   ],
   "source": [
    "\n",
    "# Filter the dataset based on 'Variation' column\n",
    "test_group_data = final_merged_data[final_merged_data['Variation'] == 'Test']\n",
    "control_group_data = final_merged_data[final_merged_data['Variation'] == 'Control']\n",
    "\n",
    "# Sample an equal number of observations from each group\n",
    "sample_size = min(len(test_group_data), len(control_group_data))\n",
    "\n",
    "balanced_test_group = test_group_data.sample(n=sample_size, random_state=5000)\n",
    "balanced_control_group = control_group_data.sample(n=sample_size, random_state=5000)\n",
    "\n",
    "# Concatenate the balanced samples\n",
    "balanced_data = pd.concat([balanced_test_group, balanced_control_group])\n",
    "\n",
    "balanced_data"
   ]
  },
  {
   "cell_type": "markdown",
   "id": "ed021249-fa27-44d1-94e0-120e3e6d5bd7",
   "metadata": {},
   "source": [
    "## Hypothesis for A/B testing\n",
    "H0 = there is no difference in the completion rates between the two groups\n",
    "H1/a = there is a difference"
   ]
  },
  {
   "cell_type": "code",
   "execution_count": 21,
   "id": "053770f4-2978-4563-9f45-ce13654caf88",
   "metadata": {},
   "outputs": [
    {
     "name": "stdout",
     "output_type": "stream",
     "text": [
      "Completion rates for each step of the process for the test group:\n",
      "process_step\n",
      "start      45577\n",
      "step_1     31133\n",
      "step_2     25087\n",
      "step_3     20872\n",
      "confirm    20793\n",
      "Name: count, dtype: int64\n",
      "\n",
      "Completion counts for Control group:\n",
      "process_step\n",
      "start      47608\n",
      "step_1     29668\n",
      "step_2     25886\n",
      "step_3     22795\n",
      "confirm    17505\n",
      "Name: count, dtype: int64\n"
     ]
    }
   ],
   "source": [
    "# Calculate completion rates for each step of the process for both test and control groups\n",
    "test_group_completion = balanced_data[balanced_data['Variation'] == 'Test']['process_step'].value_counts()\n",
    "control_group_completion = balanced_data[balanced_data['Variation'] == 'Control']['process_step'].value_counts()\n",
    "\n",
    "# Display completion rates for each step of the process for the test/control group\n",
    "print(\"Completion rates for each step of the process for the test group:\")\n",
    "print(test_group_completion)\n",
    "\n",
    "print(\"\\nCompletion counts for Control group:\")\n",
    "print(control_group_completion)\n"
   ]
  },
  {
   "cell_type": "code",
   "execution_count": 22,
   "id": "861e661c-ee9d-488b-9e03-a954088cc7f9",
   "metadata": {},
   "outputs": [
    {
     "data": {
      "image/png": "[encoded data removed]",
      "text/plain": [
       "<Figure size 1000x600 with 1 Axes>"
      ]
     },
     "metadata": {},
     "output_type": "display_data"
    }
   ],
   "source": [
    "import matplotlib.pyplot as plt\n",
    "\n",
    "# Define process steps and their completion counts for the test and control groups\n",
    "process_steps = ['start', 'step_1', 'step_2', 'step_3', 'confirm']\n",
    "test_completion_counts = [45577, 31133, 25087, 20872, 20793]\n",
    "control_completion_counts = [47608, 29668, 25886, 22795, 17505]\n",
    "\n",
    "# Plot bar graph\n",
    "plt.figure(figsize=(10, 6))\n",
    "plt.bar(process_steps, test_completion_counts, color='blue', alpha=0.5, label='Test Group')\n",
    "plt.bar(process_steps, control_completion_counts, color='orange', alpha=0.5, label='Control Group')\n",
    "plt.xlabel('Process Step')\n",
    "plt.ylabel('Completion Count')\n",
    "plt.title('Completion Counts for Each Step of the Process by Group')\n",
    "plt.legend()\n",
    "plt.xticks(rotation=45)  # Rotate x-axis labels for better readability\n",
    "plt.tight_layout()\n",
    "plt.show()\n"
   ]
  },
  {
   "cell_type": "markdown",
   "id": "1e86c935-8b56-4722-ac6e-5993601f43b1",
   "metadata": {},
   "source": [
    "## The above plot shows that more number of clients started the process in control group. However, more number of clients completed the process to the confirmation step in TEST group. "
   ]
  },
  {
   "cell_type": "markdown",
   "id": "8b76c970-8826-42f5-9c94-407d6ed18961",
   "metadata": {},
   "source": [
    "## Below you can find the statistics and significance calculations for the comparison "
   ]
  },
  {
   "cell_type": "code",
   "execution_count": 23,
   "id": "681f06c4-9420-4c1c-bc7d-67cf39f0f9fb",
   "metadata": {},
   "outputs": [
    {
     "name": "stdout",
     "output_type": "stream",
     "text": [
      "Contingency Table:\n",
      "               Test  Control\n",
      "process_step                \n",
      "start         45577    47608\n",
      "step_1        31133    29668\n",
      "step_2        25087    25886\n",
      "step_3        20872    22795\n",
      "confirm       20793    17505\n",
      "\n",
      "Results of Chi-Square Test:\n",
      "Chi-Square Statistic: 459.05940204861133\n",
      "P-value: 4.777979689300566e-98\n",
      "Degrees of Freedom: 4\n",
      "Expected Frequencies Table:\n",
      "[[46592.5 46592.5]\n",
      " [30400.5 30400.5]\n",
      " [25486.5 25486.5]\n",
      " [21833.5 21833.5]\n",
      " [19149.  19149. ]]\n"
     ]
    }
   ],
   "source": [
    "\n",
    "from scipy.stats import chi2_contingency\n",
    "\n",
    "# Create a contingency table of completion counts for test and control groups\n",
    "contingency_table = pd.concat([test_group_completion, control_group_completion], axis=1, keys=['Test', 'Control'])\n",
    "\n",
    "# Display the contingency table\n",
    "print(\"Contingency Table:\")\n",
    "print(contingency_table)\n",
    "\n",
    "# Perform chi-square test for independence\n",
    "chi2, p, dof, expected = chi2_contingency(contingency_table)\n",
    "\n",
    "# Display the results of the chi-square test\n",
    "print(\"\\nResults of Chi-Square Test:\")\n",
    "print(\"Chi-Square Statistic:\", chi2)\n",
    "print(\"P-value:\", p)\n",
    "print(\"Degrees of Freedom:\", dof)\n",
    "print(\"Expected Frequencies Table:\")\n",
    "print(expected)\n",
    "\n"
   ]
  },
  {
   "cell_type": "markdown",
   "id": "711ce938-4dae-4d13-a9a4-9b52766c5531",
   "metadata": {},
   "source": [
    "Chi-Square Statistic: The chi-square statistic is a measure of the discrepancy between the observed frequencies and the frequencies that would be expected if there were no association between the groups (i.e., if the experiment had no effect). In this case, the chi-square statistic is 459.059, indicating a significant difference between the observed and expected frequencies.\n",
    "\n",
    "P-value: The p-value associated with the chi-square statistic is extremely small (4.78e-98), indicating strong evidence against the null hypothesis (the hypothesis of no association between the groups). In other words, there is very strong evidence to suggest that there is an association between the groups and the progress through the online process steps.\n",
    "\n",
    "Degrees of Freedom: The degrees of freedom for this test is 4, which is determined by the number of categories minus 1 (since there are 5 process steps)."
   ]
  },
  {
   "cell_type": "code",
   "execution_count": 24,
   "id": "4e014c3e-7be7-4f91-b741-f312eed17024",
   "metadata": {
    "scrolled": true
   },
   "outputs": [
    {
     "name": "stdout",
     "output_type": "stream",
     "text": [
      "Confirmation step counts for Test group: 25722\n",
      "Confirmation step counts for Control group: 17505\n",
      "Test group had more individuals reaching the 'confirm' step.\n"
     ]
    }
   ],
   "source": [
    "# Get the completion counts for the \"confirm\" step for both test and control groups\n",
    "confirm_count_test = test_group_data[test_group_data['process_step'] == 'confirm']['process_step'].count()\n",
    "confirm_count_control = control_group_data[control_group_data['process_step'] == 'confirm']['process_step'].count()\n",
    "\n",
    "# Print the counts for confirmation step in both groups\n",
    "print(\"Confirmation step counts for Test group:\", confirm_count_test)\n",
    "print(\"Confirmation step counts for Control group:\", confirm_count_control)\n",
    "\n",
    "# Compare which group had more individuals reaching the \"confirm\" step\n",
    "if confirm_count_test > confirm_count_control:\n",
    "    print(\"Test group had more individuals reaching the 'confirm' step.\")\n",
    "elif confirm_count_test < confirm_count_control:\n",
    "    print(\"Control group had more individuals reaching the 'confirm' step.\")\n",
    "else:\n",
    "    print(\"Both groups had the same number of individuals reaching the 'confirm' step.\")\n"
   ]
  },
  {
   "cell_type": "code",
   "execution_count": 25,
   "id": "13bb2fbc-9765-41bb-9283-27c93e7c85d9",
   "metadata": {},
   "outputs": [
    {
     "data": {
      "image/png": "[encoded data removed]",
      "text/plain": [
       "<Figure size 1200x600 with 2 Axes>"
      ]
     },
     "metadata": {},
     "output_type": "display_data"
    }
   ],
   "source": [
    "## aditional demographic information\n",
    "\n",
    "# Create separate histograms for test and control groups\n",
    "plt.figure(figsize=(12, 6))\n",
    "\n",
    "# Histogram for test group\n",
    "plt.subplot(1, 2, 1)  # 1 row, 2 columns, subplot 1\n",
    "plt.hist(test_group_data['clnt_age'], bins=20, color='blue', alpha=0.5)\n",
    "plt.title('Age Distribution in Test Group')\n",
    "plt.xlabel('Age')\n",
    "plt.ylabel('Count')\n",
    "\n",
    "# Histogram for control group\n",
    "plt.subplot(1, 2, 2)  # 1 row, 2 columns, subplot 2\n",
    "plt.hist(control_group_data['clnt_age'], bins=20, color='orange', alpha=0.5)\n",
    "plt.title('Age Distribution in Control Group')\n",
    "plt.xlabel('Age')\n",
    "plt.ylabel('Count')\n",
    "\n",
    "# Adjust layout\n",
    "plt.tight_layout()\n",
    "\n",
    "# Show plots\n",
    "plt.show()\n"
   ]
  },
  {
   "cell_type": "code",
   "execution_count": 26,
   "id": "e3a23900-9bd7-4c7b-8c59-fd431f5ec677",
   "metadata": {
    "scrolled": true
   },
   "outputs": [
    {
     "name": "stdout",
     "output_type": "stream",
     "text": [
      "Age Range Counts for Test Group:\n",
      "age_range\n",
      "0-20       1924\n",
      "21-30     27013\n",
      "31-40     30026\n",
      "41-50     29160\n",
      "51-60     41272\n",
      "61-70     35338\n",
      "71-80     10849\n",
      "81-90      2067\n",
      "91-100      138\n",
      "Name: count, dtype: int64\n",
      "\n",
      "Age Range Counts for Control Group:\n",
      "age_range\n",
      "0-20       1590\n",
      "21-30     22539\n",
      "31-40     24814\n",
      "41-50     24356\n",
      "51-60     32910\n",
      "61-70     27079\n",
      "71-80      8330\n",
      "81-90      1646\n",
      "91-100      144\n",
      "Name: count, dtype: int64\n"
     ]
    },
    {
     "name": "stderr",
     "output_type": "stream",
     "text": [
      "C:\\Users\\sophi\\AppData\\Local\\Temp\\ipykernel_16768\\2454143140.py:8: SettingWithCopyWarning: \n",
      "A value is trying to be set on a copy of a slice from a DataFrame.\n",
      "Try using .loc[row_indexer,col_indexer] = value instead\n",
      "\n",
      "See the caveats in the documentation: https://pandas.pydata.org/pandas-docs/stable/user_guide/indexing.html#returning-a-view-versus-a-copy\n",
      "  test_group_data.loc[:, 'age_range'] = pd.cut(test_group_data['clnt_age'], bins=age_bins, labels=age_labels)\n",
      "C:\\Users\\sophi\\AppData\\Local\\Temp\\ipykernel_16768\\2454143140.py:9: SettingWithCopyWarning: \n",
      "A value is trying to be set on a copy of a slice from a DataFrame.\n",
      "Try using .loc[row_indexer,col_indexer] = value instead\n",
      "\n",
      "See the caveats in the documentation: https://pandas.pydata.org/pandas-docs/stable/user_guide/indexing.html#returning-a-view-versus-a-copy\n",
      "  control_group_data.loc[:, 'age_range'] = pd.cut(control_group_data['clnt_age'], bins=age_bins, labels=age_labels)\n"
     ]
    }
   ],
   "source": [
    "import pandas as pd\n",
    "\n",
    "# Define age ranges\n",
    "age_bins = [0, 20, 30, 40, 50, 60, 70, 80, 90, 100]\n",
    "age_labels = ['0-20', '21-30', '31-40', '41-50', '51-60', '61-70', '71-80', '81-90', '91-100']\n",
    "\n",
    "# Add a new column to the dataframes indicating the age range of each client\n",
    "test_group_data.loc[:, 'age_range'] = pd.cut(test_group_data['clnt_age'], bins=age_bins, labels=age_labels)\n",
    "control_group_data.loc[:, 'age_range'] = pd.cut(control_group_data['clnt_age'], bins=age_bins, labels=age_labels)\n",
    "\n",
    "# Count the number of individuals in each age range for both groups\n",
    "test_age_counts = test_group_data['age_range'].value_counts().sort_index()\n",
    "control_age_counts = control_group_data['age_range'].value_counts().sort_index()\n",
    "\n",
    "# Print the counts for each age range in both groups\n",
    "print(\"Age Range Counts for Test Group:\")\n",
    "print(test_age_counts)\n",
    "print(\"\\nAge Range Counts for Control Group:\")\n",
    "print(control_age_counts)\n"
   ]
  },
  {
   "cell_type": "code",
   "execution_count": 27,
   "id": "7f653168-ab91-426f-83c1-d06a6d058a5d",
   "metadata": {},
   "outputs": [
    {
     "name": "stdout",
     "output_type": "stream",
     "text": [
      "Confirm Step Counts for Age Range 51-60 in Test Group: 5612\n",
      "Confirm Step Counts for Age Range 51-60 in Control Group: 4008\n"
     ]
    }
   ],
   "source": [
    "## since 51-60 aged  individuals are the maximum users of the website, I want to compare the completion of the process for only these individuals.\n",
    "# Filter data for age range 51-60 and process step 'confirm' for both test and control groups\n",
    "test_confirm_count_51_60 = test_group_data[(test_group_data['age_range'] == '51-60') & (test_group_data['process_step'] == 'confirm')]['process_step'].count()\n",
    "control_confirm_count_51_60 = control_group_data[(control_group_data['age_range'] == '51-60') & (control_group_data['process_step'] == 'confirm')]['process_step'].count()\n",
    "\n",
    "# Print the counts for age range 51-60 and 'confirm' step in both groups\n",
    "print(\"Confirm Step Counts for Age Range 51-60 in Test Group:\", test_confirm_count_51_60)\n",
    "print(\"Confirm Step Counts for Age Range 51-60 in Control Group:\", control_confirm_count_51_60)\n"
   ]
  },
  {
   "cell_type": "code",
   "execution_count": 28,
   "id": "c1dd1353-eb47-4d37-8af4-6cc2dede25d9",
   "metadata": {},
   "outputs": [
    {
     "data": {
      "image/png": "[encoded data removed]",
      "text/plain": [
       "<Figure size 1000x600 with 1 Axes>"
      ]
     },
     "metadata": {},
     "output_type": "display_data"
    }
   ],
   "source": [
    "import matplotlib.pyplot as plt\n",
    "\n",
    "# Define age ranges\n",
    "age_ranges = ['0-20', '21-30', '31-40', '41-50', '51-60', '61-70', '71-80', '81-90', '91-100']\n",
    "\n",
    "# Initialize lists to store counts for test and control groups\n",
    "test_confirm_counts = []\n",
    "control_confirm_counts = []\n",
    "\n",
    "# Iterate over age ranges\n",
    "for age_range in age_ranges:\n",
    "    # Count individuals reaching 'confirm' step for each age range in test group\n",
    "    test_confirm_count = test_group_data[(test_group_data['age_range'] == age_range) & (test_group_data['process_step'] == 'confirm')]['process_step'].count()\n",
    "    test_confirm_counts.append(test_confirm_count)\n",
    "    \n",
    "    # Count individuals reaching 'confirm' step for each age range in control group\n",
    "    control_confirm_count = control_group_data[(control_group_data['age_range'] == age_range) & (control_group_data['process_step'] == 'confirm')]['process_step'].count()\n",
    "    control_confirm_counts.append(control_confirm_count)\n",
    "\n",
    "# Plot bar graph\n",
    "plt.figure(figsize=(10, 6))\n",
    "plt.bar(age_ranges, test_confirm_counts, color='blue', alpha=0.5, label='Test Group')\n",
    "plt.bar(age_ranges, control_confirm_counts, color='orange', alpha=0.5, label='Control Group')\n",
    "plt.xlabel('Age Range')\n",
    "plt.ylabel('Count')\n",
    "plt.title('Confirm Step Counts by Age Range and Group')\n",
    "plt.legend()\n",
    "plt.xticks(rotation=45)  # Rotate x-axis labels for better readability\n",
    "plt.tight_layout()\n",
    "plt.show()\n"
   ]
  },
  {
   "cell_type": "markdown",
   "id": "45f24b32-e289-41cc-abd0-a93882529cb9",
   "metadata": {},
   "source": [
    "## above plot indicates that in test group all age ranges reached higher completion rate. Indicating that the test conducted with the UI changes has positively impacted the completion of the process."
   ]
  },
  {
   "cell_type": "markdown",
   "id": "714dcf04-0449-449c-bf79-88c9610d341d",
   "metadata": {},
   "source": [
    "## Performance Metrics\n",
    "\n",
    "## Success Indicator_number_2\n",
    "\n",
    "## Time Spent on Each Step: The average duration users spend on each step."
   ]
  },
  {
   "cell_type": "code",
   "execution_count": 30,
   "id": "3c97f06d-09cd-48f4-8488-cb5f6ef7f432",
   "metadata": {},
   "outputs": [
    {
     "name": "stdout",
     "output_type": "stream",
     "text": [
      "process_step\n",
      "confirm     62469.544176\n",
      "start      217407.498092\n",
      "step_1       1015.476675\n",
      "step_2         63.330895\n",
      "step_3        404.840501\n",
      "Name: duration, dtype: float64\n"
     ]
    }
   ],
   "source": [
    "\n",
    "# Convert 'date_time' column to datetime format\n",
    "final_merged_data['date_time'] = pd.to_datetime(final_merged_data['date_time'])\n",
    "\n",
    "# Sort DataFrame by 'visitor_id' and 'date_time'\n",
    "final_merged_data = final_merged_data.sort_values(by=['visitor_id', 'date_time'])\n",
    "\n",
    "# Calculate duration spent on each step for each user\n",
    "final_merged_data['duration'] = final_merged_data.groupby('visitor_id')['date_time'].diff().dt.total_seconds()\n",
    "\n",
    "# Calculate average duration for each step\n",
    "avg_duration_per_step = final_merged_data.groupby('process_step')['duration'].mean()\n",
    "\n",
    "print(avg_duration_per_step)\n"
   ]
  },
  {
   "cell_type": "code",
   "execution_count": 32,
   "id": "be3c41d5-cff7-4160-b8f6-a0ef26460a64",
   "metadata": {},
   "outputs": [
    {
     "name": "stdout",
     "output_type": "stream",
     "text": [
      "Variation  process_step\n",
      "Control    confirm          47633.067577\n",
      "           start           254333.132216\n",
      "           step_1             869.251921\n",
      "           step_2              39.378661\n",
      "           step_3             346.699038\n",
      "Test       confirm          73176.555132\n",
      "           start           185021.560053\n",
      "           step_1             950.278077\n",
      "           step_2              83.569105\n",
      "           step_3             555.906289\n",
      "Name: duration, dtype: float64\n"
     ]
    }
   ],
   "source": [
    "# Group by 'Variation' and 'process_step', then calculate the average duration\n",
    "avg_duration_per_step_by_group = final_merged_data.groupby(['Variation', 'process_step'])['duration'].mean()\n",
    "\n",
    "print(avg_duration_per_step_by_group)\n"
   ]
  },
  {
   "cell_type": "code",
   "execution_count": 36,
   "id": "934c9b17-6e2f-406a-b5a9-973ce570bcd0",
   "metadata": {},
   "outputs": [
    {
     "data": {
      "image/png": "[encoded data removed]",
      "text/plain": [
       "<Figure size 1000x600 with 1 Axes>"
      ]
     },
     "metadata": {},
     "output_type": "display_data"
    }
   ],
   "source": [
    "import seaborn as sns\n",
    "import matplotlib.pyplot as plt\n",
    "\n",
    "# Define the order of process steps\n",
    "step_order = ['start', 'step_1', 'step_2', 'step_3', 'confirm']\n",
    "\n",
    "# Plotting with logarithmic scale\n",
    "plt.figure(figsize=(10, 6))\n",
    "sns.barplot(data=avg_duration_per_step_by_group, x='process_step', y='duration', hue='Variation', order=step_order)\n",
    "plt.xlabel('Process Step')\n",
    "plt.ylabel('Average Duration')\n",
    "plt.title('Average Time Spent on Each Step by Variation')\n",
    "plt.xticks(rotation=45, ha='right')\n",
    "plt.tight_layout()\n",
    "plt.legend(title='Variation')\n",
    "\n",
    "# Set logarithmic scale for the y-axis\n",
    "plt.yscale('log')\n",
    "\n",
    "plt.show()\n"
   ]
  },
  {
   "cell_type": "code",
   "execution_count": null,
   "id": "b04ef001-f7ee-472e-abc3-d5c87afcb86a",
   "metadata": {},
   "outputs": [],
   "source": [
    "## what was the avrg total time taken to reach from start to confirm step in test vs control group?"
   ]
  },
  {
   "cell_type": "code",
   "execution_count": 37,
   "id": "48ef694d-ce1f-45e2-982e-f1fc0b62eef1",
   "metadata": {},
   "outputs": [
    {
     "name": "stdout",
     "output_type": "stream",
     "text": [
      "Variation\n",
      "Control    243576.123271\n",
      "Test       233220.408650\n",
      "Name: duration, dtype: float64\n"
     ]
    }
   ],
   "source": [
    "# Filter the DataFrame for 'start' and 'confirm' steps\n",
    "start_confirm_data = final_merged_data[(final_merged_data['process_step'] == 'start') | (final_merged_data['process_step'] == 'confirm')]\n",
    "\n",
    "# Calculate total time taken for each visitor\n",
    "total_time_per_visitor = start_confirm_data.groupby(['Variation', 'visitor_id'])['duration'].sum()\n",
    "\n",
    "# Calculate the average total time for each group\n",
    "avg_total_time_per_group = total_time_per_visitor.groupby('Variation').mean()\n",
    "\n",
    "print(avg_total_time_per_group)\n"
   ]
  },
  {
   "cell_type": "code",
   "execution_count": 38,
   "id": "dcccc24a-6df5-40fa-8f02-b9f1724179f8",
   "metadata": {},
   "outputs": [
    {
     "name": "stdout",
     "output_type": "stream",
     "text": [
      "t-statistic: 1.397127713320173\n",
      "p-value: 0.16238069157454835\n"
     ]
    }
   ],
   "source": [
    "from scipy import stats\n",
    "\n",
    "# Extract durations for control and test groups\n",
    "control_durations = total_time_per_visitor['Control']\n",
    "test_durations = total_time_per_visitor['Test']\n",
    "\n",
    "# Perform independent samples t-test\n",
    "t_statistic, p_value = stats.ttest_ind(control_durations, test_durations)\n",
    "\n",
    "print(\"t-statistic:\", t_statistic)\n",
    "print(\"p-value:\", p_value)\n"
   ]
  },
  {
   "cell_type": "code",
   "execution_count": null,
   "id": "896d9103-a828-4145-9134-05d6a3c3de2f",
   "metadata": {},
   "outputs": [],
   "source": [
    "# tests for this comparison? to say that although test group significantly reduced the time required at the start step overall time difference was "
   ]
  },
  {
   "cell_type": "code",
   "execution_count": 44,
   "id": "e1a11124-dbcf-4687-abfa-b12eeb4987e0",
   "metadata": {},
   "outputs": [
    {
     "name": "stdout",
     "output_type": "stream",
     "text": [
      "t-statistic: 10.150399840205589\n",
      "p-value: 3.483906846440547e-24\n"
     ]
    }
   ],
   "source": [
    "#comparing start step for test and control\n",
    "\n",
    "# Extract durations for the \"start\" step for control and test groups\n",
    "control_start_durations = final_merged_data[(final_merged_data['Variation'] == 'Control') & (final_merged_data['process_step'] == 'start')]['duration']\n",
    "test_start_durations = final_merged_data[(final_merged_data['Variation'] == 'Test') & (final_merged_data['process_step'] == 'start')]['duration']\n",
    "\n",
    "# Perform independent samples t-test\n",
    "t_statistic, p_value = stats.ttest_ind(control_start_durations.dropna(), test_start_durations.dropna())\n",
    "\n",
    "print(\"t-statistic:\", t_statistic)\n",
    "print(\"p-value:\", p_value)\n"
   ]
  },
  {
   "cell_type": "markdown",
   "id": "b29a1a0a-771f-4c98-84cd-b854f5460e14",
   "metadata": {},
   "source": [
    "A higher t-statistic value suggests a larger difference between the means of the two groups.\n",
    "The t-statistic takes into account both the difference in means and the variability within each group. A larger t-statistic indicates a greater difference relative to the variability within the groups.\n",
    "Since the t-statistic is positive, it suggests that the mean duration for the \"start\" step in the test group is higher than that in the control group.\n",
    "\n",
    "A small p-value (smaller than 0.05) concludes that there is a statistically significant difference in the duration of the \"start\" step between the control and test groups."
   ]
  },
  {
   "cell_type": "code",
   "execution_count": 45,
   "id": "d8c805a7-48dd-4de6-a6f7-1141a9c95e8d",
   "metadata": {},
   "outputs": [
    {
     "name": "stdout",
     "output_type": "stream",
     "text": [
      "t-statistic: -6.211364981053041\n",
      "p-value: 5.30185669053111e-10\n"
     ]
    }
   ],
   "source": [
    "#comparing start step for test and control\n",
    "\n",
    "\n",
    "\n",
    "# Extract durations for the \"confrim\" step for control and test groups\n",
    "control_start_durations = final_merged_data[(final_merged_data['Variation'] == 'Control') & (final_merged_data['process_step'] == 'confirm')]['duration']\n",
    "test_start_durations = final_merged_data[(final_merged_data['Variation'] == 'Test') & (final_merged_data['process_step'] == 'confirm')]['duration']\n",
    "\n",
    "# Perform independent samples t-test\n",
    "t_statistic, p_value = stats.ttest_ind(control_start_durations.dropna(), test_start_durations.dropna())\n",
    "\n",
    "print(\"t-statistic:\", t_statistic)\n",
    "print(\"p-value:\", p_value)"
   ]
  },
  {
   "cell_type": "markdown",
   "id": "652c36ac-f26a-4be6-acbf-39694664e01c",
   "metadata": {},
   "source": [
    "The negative t-statistic value indicates that the mean duration for the \"confirm\" step in the test group is lower than the mean duration in the control group and the significant difference in the mean duration for the \"confirm\" step between the test and control group. The negative t-statistic suggests that, on average, users in the test group spent less time on the \"confirm\" step compared to users in the control group."
   ]
  },
  {
   "cell_type": "code",
   "execution_count": 46,
   "id": "e2689826-705c-4c0c-a095-6993fa202c4c",
   "metadata": {},
   "outputs": [
    {
     "name": "stdout",
     "output_type": "stream",
     "text": [
      "t-statistic: -0.2225273710576505\n",
      "p-value: 0.8239040346961857\n"
     ]
    }
   ],
   "source": [
    "\n",
    "# Extract durations for the \"step1\" step for control and test groups\n",
    "control_start_durations = final_merged_data[(final_merged_data['Variation'] == 'Control') & (final_merged_data['process_step'] == 'step_1')]['duration']\n",
    "test_start_durations = final_merged_data[(final_merged_data['Variation'] == 'Test') & (final_merged_data['process_step'] == 'step_1')]['duration']\n",
    "\n",
    "# Perform independent samples t-test\n",
    "t_statistic, p_value = stats.ttest_ind(control_start_durations.dropna(), test_start_durations.dropna())\n",
    "\n",
    "print(\"t-statistic:\", t_statistic)\n",
    "print(\"p-value:\", p_value)"
   ]
  },
  {
   "cell_type": "code",
   "execution_count": 47,
   "id": "303bb937-738a-4260-9633-aad8eaffcd5e",
   "metadata": {},
   "outputs": [
    {
     "name": "stdout",
     "output_type": "stream",
     "text": [
      "t-statistic: -1.6145408767463976\n",
      "p-value: 0.10641570673172003\n"
     ]
    }
   ],
   "source": [
    "\n",
    "# Extract durations for the \"step2\" step for control and test groups\n",
    "control_start_durations = final_merged_data[(final_merged_data['Variation'] == 'Control') & (final_merged_data['process_step'] == 'step_2')]['duration']\n",
    "test_start_durations = final_merged_data[(final_merged_data['Variation'] == 'Test') & (final_merged_data['process_step'] == 'step_2')]['duration']\n",
    "\n",
    "# Perform independent samples t-test\n",
    "t_statistic, p_value = stats.ttest_ind(control_start_durations.dropna(), test_start_durations.dropna())\n",
    "\n",
    "print(\"t-statistic:\", t_statistic)\n",
    "print(\"p-value:\", p_value)"
   ]
  },
  {
   "cell_type": "code",
   "execution_count": 48,
   "id": "b5039056-238c-41d4-b98f-c45844d1c385",
   "metadata": {},
   "outputs": [
    {
     "name": "stdout",
     "output_type": "stream",
     "text": [
      "t-statistic: -0.6178483288464391\n",
      "p-value: 0.536678216817938\n"
     ]
    }
   ],
   "source": [
    "\n",
    "# Extract durations for the \"step3\" step for control and test groups\n",
    "control_start_durations = final_merged_data[(final_merged_data['Variation'] == 'Control') & (final_merged_data['process_step'] == 'step_3')]['duration']\n",
    "test_start_durations = final_merged_data[(final_merged_data['Variation'] == 'Test') & (final_merged_data['process_step'] == 'step_3')]['duration']\n",
    "\n",
    "# Perform independent samples t-test\n",
    "t_statistic, p_value = stats.ttest_ind(control_start_durations.dropna(), test_start_durations.dropna())\n",
    "\n",
    "print(\"t-statistic:\", t_statistic)\n",
    "print(\"p-value:\", p_value)"
   ]
  },
  {
   "cell_type": "markdown",
   "id": "f8c0ff46-155c-4d87-b683-ce63b74c84af",
   "metadata": {},
   "source": [
    "\n",
    "No overall significant differences were observed between test and control group.\n",
    "However, screening duration(time spent on each step) and comparing individual step duration indicate that the test group with experimental UI significantly reduced the duration of time spent by users on the start step but no significant differences were observed between test and control group for in-between steps (1,2, and 3) whereas, comparison between time spent on confirmation step showed that users spent significantly lesser time in control group compared to test group. "
   ]
  },
  {
   "cell_type": "markdown",
   "id": "07ff7304-512f-4198-8ae9-5ed57e9f7199",
   "metadata": {},
   "source": [
    "\"While no significant differences were observed in the overall comparison between the test and control groups, a detailed analysis of individual step durations reveals interesting insights. Specifically, the test group, which experienced the experimental UI, demonstrated a significant reduction in the time spent by users on the start step compared to the control group. However, no statistically significant differences were observed between the test and control groups for the in-between steps (steps 1, 2, and 3).\n",
    "\n",
    "Surprisingly, when examining the duration of the confirmation step, users in the control group spent significantly less time compared to those in the test group. This finding suggests that the experimental UI may have influenced user behavior, leading to increased engagement or interaction during the confirmation step. Overall, while the test group's behavior was notably altered in the start and confirmation steps, the in-between steps remained unaffected by the experimental changes.\""
   ]
  },
  {
   "cell_type": "code",
   "execution_count": null,
   "id": "41751db3-f7eb-431d-9e33-ef7c05a57444",
   "metadata": {},
   "outputs": [],
   "source": []
  }
 ],
 "metadata": {
  "kernelspec": {
   "display_name": "w5_venv",
   "language": "python",
   "name": "w5_venv"
  },
  "language_info": {
   "codemirror_mode": {
    "name": "ipython",
    "version": 3
   },
   "file_extension": ".py",
   "mimetype": "text/x-python",
   "name": "python",
   "nbconvert_exporter": "python",
   "pygments_lexer": "ipython3",
   "version": "3.11.5"
  }
 },
 "nbformat": 4,
 "nbformat_minor": 5
}
